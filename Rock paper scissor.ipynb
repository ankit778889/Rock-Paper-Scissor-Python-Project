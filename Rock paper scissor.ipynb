{
 "cells": [
  {
   "cell_type": "code",
   "execution_count": 2,
   "id": "393dfdba-1cb8-44e8-9e1b-3f5b100d7d04",
   "metadata": {},
   "outputs": [],
   "source": [
    "import random as rm"
   ]
  },
  {
   "cell_type": "code",
   "execution_count": 3,
   "id": "81c01654-8415-43c1-a2ef-3e2bd1b86115",
   "metadata": {},
   "outputs": [
    {
     "name": "stdin",
     "output_type": "stream",
     "text": [
      "enter your choice among stone,paper,scissor stone\n"
     ]
    },
    {
     "name": "stdout",
     "output_type": "stream",
     "text": [
      "your choice stone\n",
      "computer choice stone\n",
      "its tie\n",
      "Thanks for playing!\n"
     ]
    }
   ],
   "source": [
    "option=['Rock','paper','scissor']\n",
    "user_choice=input('enter your choice among Rock,paper,scissor')\n",
    "comp_choice=rm.choice(option)\n",
    "print('your choice',comp_choice)\n",
    "print('computer choice',comp_choice)\n",
    "if user_choice==comp_choice:\n",
    "    print('its tie')\n",
    "elif user_choice=='Rock' and comp_choice=='scissor':\n",
    "    print('you win')\n",
    "elif user_choice=='paper' and comp_choice=='Rock':\n",
    "    print('you win')\n",
    "elif user_choice=='scissor' and comp_choice=='paper':\n",
    "    print('you win')\n",
    "else:\n",
    "    print('computer win')\n",
    "print('Thanks for playing!')\n"
   ]
  },
  {
   "cell_type": "code",
   "execution_count": null,
   "id": "a336e7a1-5ecc-4def-8224-adc5fd101d63",
   "metadata": {},
   "outputs": [],
   "source": []
  }
 ],
 "metadata": {
  "kernelspec": {
   "display_name": "Python 3 (ipykernel)",
   "language": "python",
   "name": "python3"
  },
  "language_info": {
   "codemirror_mode": {
    "name": "ipython",
    "version": 3
   },
   "file_extension": ".py",
   "mimetype": "text/x-python",
   "name": "python",
   "nbconvert_exporter": "python",
   "pygments_lexer": "ipython3",
   "version": "3.11.7"
  }
 },
 "nbformat": 4,
 "nbformat_minor": 5
}
